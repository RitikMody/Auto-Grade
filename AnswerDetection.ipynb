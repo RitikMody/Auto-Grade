{
  "nbformat": 4,
  "nbformat_minor": 0,
  "metadata": {
    "colab": {
      "name": "AnswerDetection",
      "provenance": [],
      "collapsed_sections": [],
      "toc_visible": true,
      "machine_shape": "hm"
    },
    "kernelspec": {
      "name": "python3",
      "display_name": "Python 3"
    },
    "accelerator": "GPU"
  },
  "cells": [
    {
      "cell_type": "code",
      "metadata": {
        "id": "tAb77yZ9fzMG",
        "colab": {
          "base_uri": "https://localhost:8080/"
        },
        "outputId": "3c927619-fef5-42f3-cebb-75928c83a304"
      },
      "source": [
        "!nvidia-smi"
      ],
      "execution_count": 1,
      "outputs": [
        {
          "output_type": "stream",
          "text": [
            "Sat Feb 27 10:29:44 2021       \n",
            "+-----------------------------------------------------------------------------+\n",
            "| NVIDIA-SMI 460.39       Driver Version: 460.32.03    CUDA Version: 11.2     |\n",
            "|-------------------------------+----------------------+----------------------+\n",
            "| GPU  Name        Persistence-M| Bus-Id        Disp.A | Volatile Uncorr. ECC |\n",
            "| Fan  Temp  Perf  Pwr:Usage/Cap|         Memory-Usage | GPU-Util  Compute M. |\n",
            "|                               |                      |               MIG M. |\n",
            "|===============================+======================+======================|\n",
            "|   0  Tesla P100-PCIE...  Off  | 00000000:00:04.0 Off |                    0 |\n",
            "| N/A   41C    P0    28W / 250W |      0MiB / 16280MiB |      0%      Default |\n",
            "|                               |                      |                  N/A |\n",
            "+-------------------------------+----------------------+----------------------+\n",
            "                                                                               \n",
            "+-----------------------------------------------------------------------------+\n",
            "| Processes:                                                                  |\n",
            "|  GPU   GI   CI        PID   Type   Process name                  GPU Memory |\n",
            "|        ID   ID                                                   Usage      |\n",
            "|=============================================================================|\n",
            "|  No running processes found                                                 |\n",
            "+-----------------------------------------------------------------------------+\n"
          ],
          "name": "stdout"
        }
      ]
    },
    {
      "cell_type": "code",
      "metadata": {
        "id": "XKdEbdc5dESn",
        "colab": {
          "base_uri": "https://localhost:8080/"
        },
        "outputId": "6129ca46-27d1-40e1-f5e3-76ce0a7e345a"
      },
      "source": [
        "!pip install pdf2image"
      ],
      "execution_count": 3,
      "outputs": [
        {
          "output_type": "stream",
          "text": [
            "Collecting pdf2image\n",
            "  Downloading https://files.pythonhosted.org/packages/03/62/089030fd16ab3e5c245315d63c80b29250b8f9e4579b5a09306eb7e7539c/pdf2image-1.14.0-py3-none-any.whl\n",
            "Requirement already satisfied: pillow in /usr/local/lib/python3.7/dist-packages (from pdf2image) (7.0.0)\n",
            "Installing collected packages: pdf2image\n",
            "Successfully installed pdf2image-1.14.0\n"
          ],
          "name": "stdout"
        }
      ]
    },
    {
      "cell_type": "code",
      "metadata": {
        "id": "CyS7Lat3SY49",
        "colab": {
          "base_uri": "https://localhost:8080/"
        },
        "outputId": "aae9e33f-fc87-4008-8d50-fdb40e5a3ea6"
      },
      "source": [
        "!apt-get install -y poppler-utils"
      ],
      "execution_count": 4,
      "outputs": [
        {
          "output_type": "stream",
          "text": [
            "Reading package lists... Done\n",
            "Building dependency tree       \n",
            "Reading state information... Done\n",
            "The following NEW packages will be installed:\n",
            "  poppler-utils\n",
            "0 upgraded, 1 newly installed, 0 to remove and 13 not upgraded.\n",
            "Need to get 154 kB of archives.\n",
            "After this operation, 613 kB of additional disk space will be used.\n",
            "Get:1 http://archive.ubuntu.com/ubuntu bionic-updates/main amd64 poppler-utils amd64 0.62.0-2ubuntu2.12 [154 kB]\n",
            "Fetched 154 kB in 0s (309 kB/s)\n",
            "Selecting previously unselected package poppler-utils.\n",
            "(Reading database ... 149406 files and directories currently installed.)\n",
            "Preparing to unpack .../poppler-utils_0.62.0-2ubuntu2.12_amd64.deb ...\n",
            "Unpacking poppler-utils (0.62.0-2ubuntu2.12) ...\n",
            "Setting up poppler-utils (0.62.0-2ubuntu2.12) ...\n",
            "Processing triggers for man-db (2.8.3-2ubuntu0.1) ...\n"
          ],
          "name": "stdout"
        }
      ]
    },
    {
      "cell_type": "code",
      "metadata": {
        "colab": {
          "base_uri": "https://localhost:8080/"
        },
        "id": "r9va2twGKLZ2",
        "outputId": "dbdb2f7c-70e5-49c3-fa86-8c84d8c0d83c"
      },
      "source": [
        "from google.colab import drive\r\n",
        "drive.mount('/content/drive')\r\n",
        "from google.colab import drive\r\n",
        "drive.mount('/gdrive')\r\n",
        "%cd /gdrive/My Drive/Auto Grade"
      ],
      "execution_count": 5,
      "outputs": [
        {
          "output_type": "stream",
          "text": [
            "Mounted at /content/drive\n",
            "Mounted at /gdrive\n",
            "/gdrive/My Drive/Auto Grade\n"
          ],
          "name": "stdout"
        }
      ]
    },
    {
      "cell_type": "code",
      "metadata": {
        "colab": {
          "base_uri": "https://localhost:8080/"
        },
        "id": "MRbNI4CbOimx",
        "outputId": "3d8a850d-442f-4a78-8386-858c706ed57a"
      },
      "source": [
        "from pdf2image import convert_from_path\r\n",
        "import numpy as np\r\n",
        "import cv2\r\n",
        "from google.colab.patches import cv2_imshow\r\n",
        "from PIL import Image \r\n",
        "import numpy as np\r\n",
        "\r\n",
        "from keras.models import load_model\r\n",
        "model = load_model('cnn.h5')"
      ],
      "execution_count": 6,
      "outputs": [
        {
          "output_type": "stream",
          "text": [
            "WARNING:tensorflow:Error in loading the saved optimizer state. As a result, your model is starting with a freshly initialized optimizer.\n"
          ],
          "name": "stdout"
        }
      ]
    },
    {
      "cell_type": "code",
      "metadata": {
        "id": "HusEPnILse0r"
      },
      "source": [
        "def get_answers(file):\r\n",
        "  pages = convert_from_path(file)\r\n",
        "  # pages = convert_from_path('test-multipage.pdf')\r\n",
        "  answers = []\r\n",
        "  for page in pages:\r\n",
        "      page.save('out.jpg', 'JPEG')\r\n",
        "      image = cv2.imread('out.jpg')\r\n",
        "      cim = cv2.imread('out.jpg')\r\n",
        "      imgGrey = cv2.cvtColor(image, cv2.COLOR_BGR2GRAY)\r\n",
        "      _, thrash = cv2.threshold(imgGrey, 240, 255, cv2.THRESH_BINARY)\r\n",
        "      contours, _ = cv2.findContours(thrash, cv2.RETR_TREE, cv2.CHAIN_APPROX_NONE)\r\n",
        "      count=0\r\n",
        "      rectangles = []\r\n",
        "      for contour in contours:\r\n",
        "          approx = cv2.approxPolyDP(contour, 0.01* cv2.arcLength(contour, True), True)\r\n",
        "          cv2.drawContours(image, [approx], 0, (0, 0, 0), 5)\r\n",
        "          x = approx.ravel()[0]\r\n",
        "          y = approx.ravel()[1] - 5\r\n",
        "          if len(approx) == 4:\r\n",
        "              x1 ,y1, w, h = cv2.boundingRect(approx)\r\n",
        "              aspectRatio = float(w)/h\r\n",
        "              if aspectRatio >= 0.95 and aspectRatio <= 1.05:\r\n",
        "                pass\r\n",
        "              else:\r\n",
        "                if(x1!=0 and h>30):\r\n",
        "                  rectangles.append([x1 ,y1, w, h])\r\n",
        "                  count=count+1\r\n",
        "\r\n",
        "      px1 ,py1, pw, ph = rectangles[0]\r\n",
        "      final = [rectangles[0]]\r\n",
        "\r\n",
        "      for rectangle in rectangles:\r\n",
        "        if(py1-ph>rectangle[1]):\r\n",
        "          px1 ,py1, pw, ph = rectangle\r\n",
        "          final.append(rectangle)\r\n",
        "      for i in final:\r\n",
        "        cv2.rectangle(image,(i[0],i[1]),(i[0]+i[2],i[1]+i[3]),(0,255,0),6)\r\n",
        "      # cv2_imshow(image)\r\n",
        "      # print(final)\r\n",
        "      page_answers=[]\r\n",
        "      for i in final:\r\n",
        "        img = cim[i[1]:i[1]+i[3], i[0]:i[0]+i[2]]\r\n",
        "        # cv2_imshow(img)\r\n",
        "        img = Image.fromarray(img) \r\n",
        "        x=img.convert(\"L\") \r\n",
        "        x = x.resize((28,28))\r\n",
        "        x.show()\r\n",
        "        #compute a bit-wise inversion so black becomes white and vice versa\r\n",
        "        x = np.invert(x)\r\n",
        "        #convert to a 4D tensor to feed into our model\r\n",
        "        x = x.reshape(1,28,28,1)\r\n",
        "        x = x.astype('float32')\r\n",
        "        x /= 255\r\n",
        "        out = model.predict(x)\r\n",
        "        # print(np.argmax(out[0][1:5])+1)\r\n",
        "        page_answers.append(np.argmax(out[0][1:5])+1)\r\n",
        "      answers.extend(page_answers[::-1])\r\n",
        "  return answers\r\n"
      ],
      "execution_count": 7,
      "outputs": []
    },
    {
      "cell_type": "code",
      "metadata": {
        "colab": {
          "base_uri": "https://localhost:8080/"
        },
        "id": "l2323aJ_1Bsf",
        "outputId": "681af750-0468-43bc-c75b-d443521ba0cb"
      },
      "source": [
        "get_answers(\"test-multipage.pdf\")"
      ],
      "execution_count": 8,
      "outputs": [
        {
          "output_type": "execute_result",
          "data": {
            "text/plain": [
              "[2, 1, 3, 4, 3, 4, 1, 1, 1, 2, 3, 2, 2, 3, 3]"
            ]
          },
          "metadata": {
            "tags": []
          },
          "execution_count": 8
        }
      ]
    },
    {
      "cell_type": "code",
      "metadata": {
        "id": "b9JZWwRh2nX_"
      },
      "source": [
        ""
      ],
      "execution_count": null,
      "outputs": []
    }
  ]
}